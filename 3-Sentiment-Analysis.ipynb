{
 "cells": [
  {
   "cell_type": "markdown",
   "metadata": {
    "pycharm": {
     "name": "#%% md\n"
    }
   },
   "source": [
    "## For ronson album"
   ]
  },
  {
   "cell_type": "code",
   "execution_count": 37,
   "metadata": {
    "pycharm": {
     "name": "#%%\n"
    }
   },
   "outputs": [
    {
     "name": "stdout",
     "output_type": "stream",
     "text": [
      "                                               album  \\\n",
      "0                                       Aladdin Sane   \n",
      "1                                       Diamond Dogs   \n",
      "2                                         Hunky Dory   \n",
      "3                                       Man of Words   \n",
      "4                         The Man Who Sold The World   \n",
      "5  The Rise and Fall of Ziggy Stardust and the Sp...   \n",
      "\n",
      "                                               texte  compound    neg    neu  \\\n",
      "0  a lightning bolt streaks across s face on the ...    0.9987  0.093  0.797   \n",
      "1  and in the death as the last few rotting corps...    0.9998  0.072  0.794   \n",
      "2  british rockers have assumed superiority since...    0.9999  0.068  0.785   \n",
      "3  first came to notice with the spectacularly go...    0.9996  0.080  0.753   \n",
      "4  some say the view is crazy but you may adopt a...    0.8041  0.120  0.766   \n",
      "5  england s answer to alice cooper but he s for ...    0.9999  0.075  0.781   \n",
      "\n",
      "     pos  \n",
      "0  0.110  \n",
      "1  0.134  \n",
      "2  0.147  \n",
      "3  0.167  \n",
      "4  0.114  \n",
      "5  0.144  \n",
      "ok\n"
     ]
    },
    {
     "data": {
      "text/plain": "<Figure size 432x288 with 2 Axes>",
      "image/png": "[encoded data removed]"
     },
     "metadata": {
      "needs_background": "light"
     },
     "output_type": "display_data"
    }
   ],
   "source": [
    "import pandas as pd\n",
    "import matplotlib.pyplot as plt\n",
    "from vaderSentiment.vaderSentiment import SentimentIntensityAnalyzer\n",
    "\n",
    "df_ronson_corpus = pd.read_pickle(\"./data/pickle/groups/ronson_corpus.pkl\")\n",
    "analyzer = SentimentIntensityAnalyzer()\n",
    "\n",
    "df_ronson_corpus['compound'] = [analyzer.polarity_scores(v)['compound'] for v in df_ronson_corpus['texte']]\n",
    "df_ronson_corpus['neg'] = [analyzer.polarity_scores(v)['neg'] for v in df_ronson_corpus['texte']]\n",
    "df_ronson_corpus['neu'] = [analyzer.polarity_scores(v)['neu'] for v in df_ronson_corpus['texte']]\n",
    "df_ronson_corpus['pos'] = [analyzer.polarity_scores(v)['pos'] for v in df_ronson_corpus['texte']]\n",
    "\n",
    "print(df_ronson_corpus)\n",
    "\n",
    "df = df_ronson_corpus.set_index(['album'])\n",
    "\n",
    "fig = plt.figure()\n",
    "ax = fig.add_subplot(111)\n",
    "ax2 = ax.twinx()\n",
    "\n",
    "df_ronson_corpus['neg'].plot(kind='bar', color='red', ax=ax, position=0, width=0.25)\n",
    "df_ronson_corpus['pos'].plot(kind='bar', color='blue', ax=ax2, position=1, width=0.25)\n",
    "df_ronson_corpus.set_index(\"album\", drop=True, inplace=True)\n",
    "\n",
    "print(\"ok\")"
   ]
  }
 ],
 "metadata": {
  "kernelspec": {
   "display_name": "Python 3",
   "language": "python",
   "name": "python3"
  },
  "language_info": {
   "codemirror_mode": {
    "name": "ipython",
    "version": 3
   },
   "file_extension": ".py",
   "mimetype": "text/x-python",
   "name": "python",
   "nbconvert_exporter": "python",
   "pygments_lexer": "ipython3",
   "version": "3.7.7"
  }
 },
 "nbformat": 4,
 "nbformat_minor": 1
}