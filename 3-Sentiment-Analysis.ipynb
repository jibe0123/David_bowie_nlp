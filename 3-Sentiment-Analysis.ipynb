{
 "cells": [
  {
   "cell_type": "markdown",
   "source": [
    "\n",
    "\n",
    "\n",
    "## For ronson album"
   ],
   "metadata": {
    "collapsed": false
   }
  },
  {
   "cell_type": "code",
   "execution_count": 4,
   "outputs": [
    {
     "ename": "KeyError",
     "evalue": "\"None of ['album'] are in the columns\"",
     "output_type": "error",
     "traceback": [
      "\u001B[1;31m---------------------------------------------------------------------------\u001B[0m",
      "\u001B[1;31mKeyError\u001B[0m                                  Traceback (most recent call last)",
      "\u001B[1;32m<ipython-input-4-4c16d3bbde36>\u001B[0m in \u001B[0;36m<module>\u001B[1;34m\u001B[0m\n\u001B[0;32m     21\u001B[0m \u001B[0mdf_ronson_corpus\u001B[0m\u001B[1;33m[\u001B[0m\u001B[1;34m'pos'\u001B[0m\u001B[1;33m]\u001B[0m\u001B[1;33m.\u001B[0m\u001B[0mplot\u001B[0m\u001B[1;33m(\u001B[0m\u001B[0mkind\u001B[0m\u001B[1;33m=\u001B[0m\u001B[1;34m'bar'\u001B[0m\u001B[1;33m,\u001B[0m \u001B[0mcolor\u001B[0m\u001B[1;33m=\u001B[0m\u001B[1;34m'blue'\u001B[0m\u001B[1;33m,\u001B[0m \u001B[0max\u001B[0m\u001B[1;33m=\u001B[0m\u001B[0max\u001B[0m\u001B[1;33m,\u001B[0m \u001B[0mposition\u001B[0m\u001B[1;33m=\u001B[0m\u001B[1;36m1\u001B[0m\u001B[1;33m,\u001B[0m \u001B[0mwidth\u001B[0m\u001B[1;33m=\u001B[0m\u001B[1;36m0.25\u001B[0m\u001B[1;33m)\u001B[0m\u001B[1;33m\u001B[0m\u001B[1;33m\u001B[0m\u001B[0m\n\u001B[0;32m     22\u001B[0m \u001B[0mdf_ronson_corpus\u001B[0m\u001B[1;33m[\u001B[0m\u001B[1;34m'neu'\u001B[0m\u001B[1;33m]\u001B[0m\u001B[1;33m.\u001B[0m\u001B[0mplot\u001B[0m\u001B[1;33m(\u001B[0m\u001B[0mkind\u001B[0m\u001B[1;33m=\u001B[0m\u001B[1;34m'bar'\u001B[0m\u001B[1;33m,\u001B[0m \u001B[0mcolor\u001B[0m\u001B[1;33m=\u001B[0m\u001B[1;34m'pink'\u001B[0m\u001B[1;33m,\u001B[0m \u001B[0max\u001B[0m\u001B[1;33m=\u001B[0m\u001B[0max\u001B[0m\u001B[1;33m,\u001B[0m \u001B[0mposition\u001B[0m\u001B[1;33m=\u001B[0m\u001B[1;36m2\u001B[0m\u001B[1;33m,\u001B[0m \u001B[0mwidth\u001B[0m\u001B[1;33m=\u001B[0m\u001B[1;36m0.25\u001B[0m\u001B[1;33m)\u001B[0m\u001B[1;33m\u001B[0m\u001B[1;33m\u001B[0m\u001B[0m\n\u001B[1;32m---> 23\u001B[1;33m \u001B[0mdf_ronson_corpus\u001B[0m\u001B[1;33m.\u001B[0m\u001B[0mset_index\u001B[0m\u001B[1;33m(\u001B[0m\u001B[1;34m\"album\"\u001B[0m\u001B[1;33m,\u001B[0m \u001B[0mdrop\u001B[0m\u001B[1;33m=\u001B[0m\u001B[1;32mTrue\u001B[0m\u001B[1;33m,\u001B[0m \u001B[0minplace\u001B[0m\u001B[1;33m=\u001B[0m\u001B[1;32mTrue\u001B[0m\u001B[1;33m)\u001B[0m\u001B[1;33m\u001B[0m\u001B[1;33m\u001B[0m\u001B[0m\n\u001B[0m\u001B[0;32m     24\u001B[0m \u001B[1;33m\u001B[0m\u001B[0m\n\u001B[0;32m     25\u001B[0m \u001B[1;33m\u001B[0m\u001B[0m\n",
      "\u001B[1;32mc:\\users\\elias\\documents\\mopp cours\\david_bowie_nlp\\venv37\\lib\\site-packages\\pandas\\core\\frame.py\u001B[0m in \u001B[0;36mset_index\u001B[1;34m(self, keys, drop, append, inplace, verify_integrity)\u001B[0m\n\u001B[0;32m   4301\u001B[0m \u001B[1;33m\u001B[0m\u001B[0m\n\u001B[0;32m   4302\u001B[0m         \u001B[1;32mif\u001B[0m \u001B[0mmissing\u001B[0m\u001B[1;33m:\u001B[0m\u001B[1;33m\u001B[0m\u001B[1;33m\u001B[0m\u001B[0m\n\u001B[1;32m-> 4303\u001B[1;33m             \u001B[1;32mraise\u001B[0m \u001B[0mKeyError\u001B[0m\u001B[1;33m(\u001B[0m\u001B[1;34mf\"None of {missing} are in the columns\"\u001B[0m\u001B[1;33m)\u001B[0m\u001B[1;33m\u001B[0m\u001B[1;33m\u001B[0m\u001B[0m\n\u001B[0m\u001B[0;32m   4304\u001B[0m \u001B[1;33m\u001B[0m\u001B[0m\n\u001B[0;32m   4305\u001B[0m         \u001B[1;32mif\u001B[0m \u001B[0minplace\u001B[0m\u001B[1;33m:\u001B[0m\u001B[1;33m\u001B[0m\u001B[1;33m\u001B[0m\u001B[0m\n",
      "\u001B[1;31mKeyError\u001B[0m: \"None of ['album'] are in the columns\""
     ]
    },
    {
     "data": {
      "text/plain": "<Figure size 432x288 with 1 Axes>",
      "image/png": "[encoded data removed]"
     },
     "metadata": {
      "needs_background": "light"
     },
     "output_type": "display_data"
    }
   ],
   "source": [
    "\n",
    "import pandas as pd\n",
    "import matplotlib.pyplot as plt\n",
    "from vaderSentiment.vaderSentiment import SentimentIntensityAnalyzer\n",
    "\n",
    "df_ronson_corpus = pd.read_pickle(\"./data/pickle/groups/ronson_corpus.pkl\")\n",
    "analyzer = SentimentIntensityAnalyzer()\n",
    "\n",
    "df_ronson_corpus['compound'] = [analyzer.polarity_scores(v)['compound'] for v in df_ronson_corpus['texte']]\n",
    "df_ronson_corpus['neg'] = [analyzer.polarity_scores(v)['neg'] for v in df_ronson_corpus['texte']]\n",
    "df_ronson_corpus['neu'] = [analyzer.polarity_scores(v)['neu'] for v in df_ronson_corpus['texte']]\n",
    "df_ronson_corpus['pos'] = [analyzer.polarity_scores(v)['pos'] for v in df_ronson_corpus['texte']]\n",
    "\n",
    "\n",
    "df_ronson_corpus = df_ronson_corpus.set_index(['album'])\n",
    "\n",
    "fig = plt.figure()\n",
    "ax = fig.add_subplot(111)\n",
    "\n",
    "\n",
    "df_ronson_corpus['neg'].plot(kind='bar', color='red', ax=ax, position=0, width=0.25)\n",
    "df_ronson_corpus['pos'].plot(kind='bar', color='blue', ax=ax, position=1, width=0.25)\n",
    "df_ronson_corpus['neu'].plot(kind='bar', color='pink', ax=ax, position=2, width=0.25)\n",
    "df_ronson_corpus.set_index(\"album\", drop=True, inplace=True)\n"
   ],
   "metadata": {
    "collapsed": false,
    "pycharm": {
     "name": "#%%\n"
    }
   }
  },
  {
   "cell_type": "markdown",
   "source": [
    "## For Experimental album"
   ],
   "metadata": {
    "collapsed": false
   }
  },
  {
   "cell_type": "code",
   "execution_count": null,
   "outputs": [],
   "source": [
    "import pandas as pd\n",
    "import matplotlib.pyplot as plt\n",
    "from vaderSentiment.vaderSentiment import SentimentIntensityAnalyzer\n",
    "\n",
    "df_experimental_corpus = pd.read_pickle(\"./data/pickle/groups/experimental_corpus.pkl\")\n",
    "analyzer = SentimentIntensityAnalyzer()\n",
    "\n",
    "df_experimental_corpus['compound'] = [analyzer.polarity_scores(v)['compound'] for v in df_experimental_corpus['texte']]\n",
    "df_experimental_corpus['neg'] = [analyzer.polarity_scores(v)['neg'] for v in df_experimental_corpus['texte']]\n",
    "df_experimental_corpus['neu'] = [analyzer.polarity_scores(v)['neu'] for v in df_experimental_corpus['texte']]\n",
    "df_experimental_corpus['pos'] = [analyzer.polarity_scores(v)['pos'] for v in df_experimental_corpus['texte']]\n",
    "\n",
    "print(df_experimental_corpus)\n",
    "\n",
    "df_experimental_corpus = df_experimental_corpus.set_index(['album'])\n",
    "\n",
    "fig = plt.figure()\n",
    "ax = fig.add_subplot(111)\n",
    "\n",
    "df_experimental_corpus['neg'].plot(kind='bar', color='red', ax=ax, position=0, width=0.25)\n",
    "df_experimental_corpus['pos'].plot(kind='bar', color='blue', ax=ax, position=1, width=0.25)\n",
    "df_experimental_corpus['neu'].plot(kind='bar', color='pink', ax=ax, position=2, width=0.25)\n",
    "df_experimental_corpus.set_index(\"album\", drop=True, inplace=True)"
   ],
   "metadata": {
    "collapsed": false,
    "pycharm": {
     "name": "#%%\n",
     "is_executing": true
    }
   }
  },
  {
   "cell_type": "markdown",
   "metadata": {
    "pycharm": {
     "name": "#%% md\n"
    }
   },
   "source": []
  },
  {
   "cell_type": "markdown",
   "source": [
    "## For Demise album"
   ],
   "metadata": {
    "collapsed": false,
    "pycharm": {
     "name": "#%% md\n"
    }
   }
  },
  {
   "cell_type": "code",
   "execution_count": null,
   "outputs": [],
   "source": [
    "import pandas as pd\n",
    "import matplotlib.pyplot as plt\n",
    "from vaderSentiment.vaderSentiment import SentimentIntensityAnalyzer\n",
    "\n",
    "df_demise_corpus = pd.read_pickle(\"./data/pickle/groups/demise_corpus.pkl\")\n",
    "analyzer = SentimentIntensityAnalyzer()\n",
    "\n",
    "df_demise_corpus['compound'] = [analyzer.polarity_scores(v)['compound'] for v in df_demise_corpus['texte']]\n",
    "df_demise_corpus['neg'] = [analyzer.polarity_scores(v)['neg'] for v in df_demise_corpus['texte']]\n",
    "df_demise_corpus['neu'] = [analyzer.polarity_scores(v)['neu'] for v in df_demise_corpus['texte']]\n",
    "df_demise_corpus['pos'] = [analyzer.polarity_scores(v)['pos'] for v in df_demise_corpus['texte']]\n",
    "\n",
    "df_demise_corpus = df_demise_corpus.set_index(['album'])\n",
    "\n",
    "fig = plt.figure()\n",
    "ax = fig.add_subplot(111)\n",
    "\n",
    "df_demise_corpus['neg'].plot(kind='bar', color='red', ax=ax, position=0, width=0.25)\n",
    "df_demise_corpus['pos'].plot(kind='bar', color='blue', ax=ax, position=1, width=0.25)\n",
    "df_demise_corpus['neu'].plot(kind='bar', color='pink', ax=ax, position=2, width=0.25)\n",
    "df_demise_corpus.set_index(\"album\", drop=True, inplace=True)\n"
   ],
   "metadata": {
    "collapsed": false,
    "pycharm": {
     "name": "#%%\n"
    }
   }
  }
 ],
 "metadata": {
  "kernelspec": {
   "display_name": "Python 3",
   "language": "python",
   "name": "python3"
  },
  "language_info": {
   "codemirror_mode": {
    "name": "ipython",
    "version": 3
   },
   "file_extension": ".py",
   "mimetype": "text/x-python",
   "name": "python",
   "nbconvert_exporter": "python",
   "pygments_lexer": "ipython3",
   "version": "3.7.7"
  }
 },
 "nbformat": 4,
 "nbformat_minor": 1
}